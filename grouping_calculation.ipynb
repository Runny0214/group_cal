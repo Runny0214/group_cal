{
 "cells": [
  {
   "cell_type": "code",
   "execution_count": 1,
   "metadata": {},
   "outputs": [
    {
     "name": "stdout",
     "output_type": "stream",
     "text": [
      "  아파트    브랜드  val1  val2    ms\n",
      "0   A    REF     5   0.3   0.0\n",
      "1   A   TEST     3   0.5  -4.0\n",
      "2   A  TREND     8   0.1  30.0\n",
      "3   B    REF     7   1.2   0.0\n",
      "4   B   TEST     9   0.8   2.5\n",
      "  아파트    브랜드  val1  val2    ms  judge\n",
      "0   A    REF     5   0.3   0.0      0\n",
      "1   A   TEST     3   0.5  -4.0  유의차있다\n",
      "2   A  TREND     8   0.1  30.0     정상\n",
      "3   B    REF     7   1.2   0.0      0\n",
      "4   B   TEST     9   0.8   2.5     정상\n"
     ]
    }
   ],
   "source": [
    "import pandas as pd\n",
    "\n",
    "data = {\n",
    "    '아파트': ['A', 'A', 'A', 'B', 'B'],\n",
    "    '브랜드': ['REF', 'TEST', 'TREND', 'REF', 'TEST'],\n",
    "    'val1': [5, 3, 8, 7, 9],\n",
    "    'val2': [0.3, 0.5, 0.1, 1.2, 0.8],\n",
    "}\n",
    "\n",
    "df = pd.DataFrame(data)\n",
    "\n",
    "# '아파트'를 기준으로 그룹화하여 'ms' 계산 함수 적용\n",
    "def calculate_ms(group):\n",
    "    ref_val1 = group[group['브랜드'] == 'REF']['val1'].values[0]\n",
    "    group['ms'] = (group['val1'] - ref_val1)/group['val2']\n",
    "    return group\n",
    "\n",
    "df['ms'] = 0\n",
    "\n",
    "df = df.groupby('아파트').apply(calculate_ms)\n",
    "\n",
    "print(df)\n",
    "\n",
    "def judge(group):\n",
    "    if(group['브랜드'] == 'REF'):\n",
    "      group['judge'] = 0\n",
    "    else:\n",
    "      if(group['ms'] > 1.2):\n",
    "        group['judge'] = '정상'\n",
    "      else:\n",
    "        group['judge'] = '유의차있다'\n",
    "\n",
    "    return group\n",
    "\n",
    "\n",
    "af = df.apply(judge, axis = 1)\n",
    "\n",
    "\n",
    "print(af)\n",
    "#test"
   ]
  },
  {
   "cell_type": "markdown",
   "metadata": {},
   "source": []
  }
 ],
 "metadata": {
  "kernelspec": {
   "display_name": "base",
   "language": "python",
   "name": "python3"
  },
  "language_info": {
   "codemirror_mode": {
    "name": "ipython",
    "version": 3
   },
   "file_extension": ".py",
   "mimetype": "text/x-python",
   "name": "python",
   "nbconvert_exporter": "python",
   "pygments_lexer": "ipython3",
   "version": "3.9.7"
  }
 },
 "nbformat": 4,
 "nbformat_minor": 2
}
